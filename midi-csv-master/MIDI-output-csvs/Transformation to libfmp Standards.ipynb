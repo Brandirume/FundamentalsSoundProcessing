{
 "cells": [
  {
   "cell_type": "code",
   "execution_count": 1,
   "id": "5709a0a9",
   "metadata": {},
   "outputs": [
    {
     "name": "stdout",
     "output_type": "stream",
     "text": [
      "Enter the input CSV file name (e.g., input.csv): MIDI.csv\n",
      "Enter the output CSV file name (e.g., output.csv): hungarian dance No. 5.csv\n",
      "CSV file 'hungarian dance No. 5.csv' has been generated.\n"
     ]
    }
   ],
   "source": [
    "import pandas as pd\n",
    "\n",
    "# Prompt the user for input and output file names\n",
    "input_file = input(\"Enter the input CSV file name (e.g., input.csv): \")\n",
    "output_file = input(\"Enter the output CSV file name (e.g., output.csv): \")\n",
    "\n",
    "# Load the CSV file\n",
    "df = pd.read_csv(input_file)\n",
    "\n",
    "# Replace '-' with 'b' in the note_name column\n",
    "df['note_name'] = df['note_name'].str.replace('-', 'b')\n",
    "\n",
    "def note_to_pitch(note_name):\n",
    "    note_to_pitch_dict = {\n",
    "        'C': 0, 'C#': 1, 'Db': 1, 'D': 2, 'D#': 3, 'Eb': 3, 'E': 4, 'F': 5, 'F#': 6, 'Gb': 6, \n",
    "        'G': 7, 'G#': 8, 'Ab': 8, 'A': 9, 'A#': 10, 'Bb': 10, 'B': 11\n",
    "    }\n",
    "    octave = int(note_name[-1]) if len(note_name) > 1 else 4\n",
    "    return note_to_pitch_dict[note_name[:-1]] + (octave - 4) * 12\n",
    "\n",
    "# Apply the transformation to each row\n",
    "df['Pitch'] = df['note_name'].apply(note_to_pitch)\n",
    "df['Start'] = df['start_time'].round(2)\n",
    "df['Duration'] = df['duration'].round(2)\n",
    "df['Velocity'] = df['velocity']\n",
    "\n",
    "# Select and reorder columns\n",
    "df = df[['Start', 'Duration', 'Pitch', 'Velocity']]\n",
    "\n",
    "# Save the DataFrame to a new CSV file\n",
    "df.to_csv(output_file, index=False, sep=';', header=True)\n",
    "\n",
    "print(f\"CSV file '{output_file}' has been generated.\")"
   ]
  }
 ],
 "metadata": {
  "kernelspec": {
   "display_name": "Python 3 (ipykernel)",
   "language": "python",
   "name": "python3"
  },
  "language_info": {
   "codemirror_mode": {
    "name": "ipython",
    "version": 3
   },
   "file_extension": ".py",
   "mimetype": "text/x-python",
   "name": "python",
   "nbconvert_exporter": "python",
   "pygments_lexer": "ipython3",
   "version": "3.9.16"
  }
 },
 "nbformat": 4,
 "nbformat_minor": 5
}
