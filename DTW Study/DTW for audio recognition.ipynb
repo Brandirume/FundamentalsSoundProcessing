{
 "cells": [
  {
   "cell_type": "code",
   "execution_count": 1,
   "id": "3a9ee10b",
   "metadata": {},
   "outputs": [],
   "source": [
    "import os\n",
    "from matplotlib.patches import ConnectionPatch\n",
    "import matplotlib.pyplot as plt\n",
    "import numpy as np\n",
    "import libfmp.c3\n",
    "import librosa\n",
    "from numba import jit, njit\n",
    "import scipy.spatial.distance as dist\n",
    "from scipy.io import wavfile\n",
    "import IPython.display as ipyd\n",
    "import scipy.spatial.distance as dist\n",
    "from pydub import AudioSegment\n",
    "import time"
   ]
  },
  {
   "cell_type": "markdown",
   "id": "a80edbf3",
   "metadata": {},
   "source": [
    "# Ideia inicial:\n",
    "Descobrir o quão util pode ser a DTW para reconhecimento de palavras/frases:\n",
    "- Custo de alinhamento normalizado x não normalizado.\n",
    "- comparar qual espectograma funciona melhor mel x chroma"
   ]
  },
  {
   "cell_type": "markdown",
   "id": "51e776ad",
   "metadata": {},
   "source": [
    "# Em Chroma:"
   ]
  },
  {
   "cell_type": "code",
   "execution_count": 3,
   "id": "0e9f0a67",
   "metadata": {},
   "outputs": [
    {
     "name": "stdout",
     "output_type": "stream",
     "text": [
      "Tempo de execução do loop: 96.67957639694214 segundos\n",
      "Audio 1 - File: clips/common_voice_pt_19273358.mp3, Normalized Alignment Cost: 0.0\n",
      "Audio 2 - File: clips/common_voice_pt_19338125.mp3, Normalized Alignment Cost: 0.2685436809366923\n",
      "Audio 3 - File: clips/common_voice_pt_19372960.mp3, Normalized Alignment Cost: 0.27197793547104065\n",
      "Audio 4 - File: clips/common_voice_pt_19369652.mp3, Normalized Alignment Cost: 0.2735519771141448\n",
      "Audio 5 - File: clips/common_voice_pt_19369678.mp3, Normalized Alignment Cost: 0.27901505109119357\n",
      "Audio 6 - File: clips/common_voice_pt_19331134.mp3, Normalized Alignment Cost: 0.27918380578051427\n",
      "Audio 7 - File: clips/common_voice_pt_19372678.mp3, Normalized Alignment Cost: 0.2801055062462347\n",
      "Audio 8 - File: clips/common_voice_pt_19331105.mp3, Normalized Alignment Cost: 0.28319949372282793\n",
      "Audio 9 - File: clips/common_voice_pt_19347170.mp3, Normalized Alignment Cost: 0.28520041141141866\n",
      "Audio 10 - File: clips/common_voice_pt_19377035.mp3, Normalized Alignment Cost: 0.28546065804239446\n"
     ]
    }
   ],
   "source": [
    "N, H = 4096, 512\n",
    "#selecionando o primeiro audio:\n",
    "x, f_s_x = librosa.load(\"clips/common_voice_pt_19273358.mp3\")\n",
    "# Chroma spectrogram do primeiro:\n",
    "X = librosa.feature.chroma_stft(y=x, sr=f_s_x, tuning=0, norm=2, hop_length=H, n_fft=N)\n",
    "ipyd.Audio(rate=f_s_x, data=x)\n",
    "x_seq = X.T\n",
    "#Comparando com a base de dados:\n",
    "audio_dir = \"clips/\"\n",
    "selected_audios = [os.path.join(audio_dir, file) for file in os.listdir(audio_dir) if file.endswith(\".mp3\")][:5000]\n",
    "smallest_costs = [float('inf')] * 10\n",
    "smallest_audios = [None] * 10\n",
    "start_time = time.time()\n",
    "for audio in selected_audios:\n",
    "    y, f_s_y = librosa.load(audio)\n",
    "    Y = librosa.feature.chroma_stft(y=y, sr=f_s_y, tuning=0, norm=2, hop_length=H, n_fft=N)\n",
    "    y_seq = Y.T\n",
    "    C = libfmp.c3.compute_cost_matrix(X, Y)\n",
    "    D = libfmp.c3.compute_accumulated_cost_matrix(C)\n",
    "    P = libfmp.c3.compute_optimal_warping_path(D)\n",
    "    alignment_cost = D[-1, -1]\n",
    "    normalized_cost = alignment_cost / (y_seq.shape[0] + x_seq.shape[0])\n",
    "    \n",
    "    # Check if the current audio has a smaller cost than any of the current smallest costs\n",
    "    for i in range(10):\n",
    "        if normalized_cost < smallest_costs[i]:\n",
    "            smallest_costs.insert(i, normalized_cost)\n",
    "            smallest_costs = smallest_costs[:10]\n",
    "            smallest_audios.insert(i, audio)\n",
    "            smallest_audios = smallest_audios[:10]\n",
    "            break\n",
    "end_time = time.time()\n",
    "execution_time = end_time - start_time\n",
    "print(f\"Tempo de execução do loop: {execution_time} segundos\")\n",
    "# Print the 10 audios with the smallest alignment cost\n",
    "for i, audio in enumerate(smallest_audios):\n",
    "    print(f\"Audio {i+1} - File: {audio}, Normalized Alignment Cost: {smallest_costs[i]}\")"
   ]
  },
  {
   "cell_type": "markdown",
   "id": "1d4d5223",
   "metadata": {},
   "source": [
    "Não há semelhança nenhuma entre os audios."
   ]
  },
  {
   "cell_type": "markdown",
   "id": "6fb5fa4a",
   "metadata": {},
   "source": [
    "# matriz de custo gerada através da formula do cosseno:"
   ]
  },
  {
   "cell_type": "code",
   "execution_count": 5,
   "id": "97055c04",
   "metadata": {},
   "outputs": [
    {
     "name": "stdout",
     "output_type": "stream",
     "text": [
      "Tempo de execução do loop: 101.02801489830017 segundos\n",
      "Audio 1 - File: clips/common_voice_pt_19273358.mp3, Normalized Alignment Cost: 1.4426626873660226e-17\n",
      "Audio 2 - File: clips/common_voice_pt_19338125.mp3, Normalized Alignment Cost: 0.06863948390711373\n",
      "Audio 3 - File: clips/common_voice_pt_19369652.mp3, Normalized Alignment Cost: 0.07003669584041818\n",
      "Audio 4 - File: clips/common_voice_pt_19331134.mp3, Normalized Alignment Cost: 0.07072787357176913\n",
      "Audio 5 - File: clips/common_voice_pt_19347170.mp3, Normalized Alignment Cost: 0.07102583596871946\n",
      "Audio 6 - File: clips/common_voice_pt_19331123.mp3, Normalized Alignment Cost: 0.07477681167441243\n",
      "Audio 7 - File: clips/common_voice_pt_19372960.mp3, Normalized Alignment Cost: 0.07512247545764633\n",
      "Audio 8 - File: clips/common_voice_pt_19372678.mp3, Normalized Alignment Cost: 0.07655678075878566\n",
      "Audio 9 - File: clips/common_voice_pt_19401216.mp3, Normalized Alignment Cost: 0.07680902861296908\n",
      "Audio 10 - File: clips/common_voice_pt_19401533.mp3, Normalized Alignment Cost: 0.0770525470629197\n"
     ]
    }
   ],
   "source": [
    "N, H = 4096, 512\n",
    "#selecionando o primeiro audio:\n",
    "x, f_s_x = librosa.load(\"clips/common_voice_pt_19273358.mp3\")\n",
    "# Chroma spectrogram do primeiro:\n",
    "X = librosa.feature.chroma_stft(y=x, sr=f_s_x, tuning=0, norm=2, hop_length=H, n_fft=N)\n",
    "ipyd.Audio(rate=f_s_x, data=x)\n",
    "x_seq = X.T\n",
    "#Comparando com a base de dados:\n",
    "audio_dir = \"clips/\"\n",
    "selected_audios = [os.path.join(audio_dir, file) for file in os.listdir(audio_dir) if file.endswith(\".mp3\")][:5000]\n",
    "smallest_costs = [float('inf')] * 10\n",
    "smallest_audios = [None] * 10\n",
    "start_time = time.time()\n",
    "for audio in selected_audios:\n",
    "    y, f_s_y = librosa.load(audio)\n",
    "    Y = librosa.feature.chroma_stft(y=y, sr=f_s_y, tuning=0, norm=2, hop_length=H, n_fft=N)\n",
    "    y_seq = Y.T\n",
    "    C = dist.cdist(x_seq, y_seq, \"cosine\")\n",
    "    #C = libfmp.c3.compute_cost_matrix(X, Y)\n",
    "    D = libfmp.c3.compute_accumulated_cost_matrix(C)\n",
    "    P = libfmp.c3.compute_optimal_warping_path(D)\n",
    "    alignment_cost = D[-1, -1]\n",
    "    normalized_cost = alignment_cost / (y_seq.shape[0] + x_seq.shape[0])\n",
    "    \n",
    "    # Check if the current audio has a smaller cost than any of the current smallest costs\n",
    "    for i in range(10):\n",
    "        if normalized_cost < smallest_costs[i]:\n",
    "            smallest_costs.insert(i, normalized_cost)\n",
    "            smallest_costs = smallest_costs[:10]\n",
    "            smallest_audios.insert(i, audio)\n",
    "            smallest_audios = smallest_audios[:10]\n",
    "            break\n",
    "end_time = time.time()\n",
    "execution_time = end_time - start_time\n",
    "print(f\"Tempo de execução do loop: {execution_time} segundos\")\n",
    "# Print the 10 audios with the smallest alignment cost\n",
    "for i, audio in enumerate(smallest_audios):\n",
    "    print(f\"Audio {i+1} - File: {audio}, Normalized Alignment Cost: {smallest_costs[i]}\")"
   ]
  },
  {
   "cell_type": "markdown",
   "id": "923c3b0f",
   "metadata": {},
   "source": [
    "Os audios com o custo de alinhamento menor, são os que possuem muito tempo em silencio."
   ]
  },
  {
   "cell_type": "markdown",
   "id": "6c2665a1",
   "metadata": {},
   "source": [
    "# Melspectogram:"
   ]
  },
  {
   "cell_type": "code",
   "execution_count": 9,
   "id": "51d837a0",
   "metadata": {},
   "outputs": [
    {
     "name": "stdout",
     "output_type": "stream",
     "text": [
      "Tempo de execução do loop: 131.20780324935913 segundos\n",
      "Audio 1 - File: clips/common_voice_pt_19273358.mp3, Normalized Alignment Cost: 1.2544892933617588e-17\n",
      "Audio 2 - File: clips/common_voice_pt_19273362.mp3, Normalized Alignment Cost: 0.2421714480237182\n",
      "Audio 3 - File: clips/common_voice_pt_19338507.mp3, Normalized Alignment Cost: 0.24523767083111386\n",
      "Audio 4 - File: clips/common_voice_pt_19379766.mp3, Normalized Alignment Cost: 0.24620468237678728\n",
      "Audio 5 - File: clips/common_voice_pt_19335437.mp3, Normalized Alignment Cost: 0.24998157059386403\n",
      "Audio 6 - File: clips/common_voice_pt_19331454.mp3, Normalized Alignment Cost: 0.2539998449683059\n",
      "Audio 7 - File: clips/common_voice_pt_19338487.mp3, Normalized Alignment Cost: 0.2553265189914809\n",
      "Audio 8 - File: clips/common_voice_pt_19338601.mp3, Normalized Alignment Cost: 0.2573090209291416\n",
      "Audio 9 - File: clips/common_voice_pt_19372578.mp3, Normalized Alignment Cost: 0.25795736433407257\n",
      "Audio 10 - File: clips/common_voice_pt_19335446.mp3, Normalized Alignment Cost: 0.2589527984168094\n"
     ]
    }
   ],
   "source": [
    "N, H = 4096, 512\n",
    "#selecionando o primeiro audio:\n",
    "x, f_s_x = librosa.load(\"clips/common_voice_pt_19273358.mp3\")\n",
    "# Chroma spectrogram do primeiro:\n",
    "X = librosa.feature.melspectrogram(y=x, sr=f_s_x, hop_length=H, n_fft=N)\n",
    "ipyd.Audio(rate=f_s_x, data=x)\n",
    "x_seq = X.T\n",
    "#Comparando com a base de dados:\n",
    "audio_dir = \"clips/\"\n",
    "selected_audios = [os.path.join(audio_dir, file) for file in os.listdir(audio_dir) if file.endswith(\".mp3\")][:5000]\n",
    "smallest_costs = [float('inf')] * 10\n",
    "smallest_audios = [None] * 10\n",
    "start_time = time.time()\n",
    "for audio in selected_audios:\n",
    "    y, f_s_y = librosa.load(audio)\n",
    "    Y = librosa.feature.melspectrogram(y=y, sr=f_s_y, hop_length=H, n_fft=N)\n",
    "    y_seq = Y.T\n",
    "    C = dist.cdist(x_seq, y_seq, \"cosine\")\n",
    "    #C = libfmp.c3.compute_cost_matrix(X, Y)\n",
    "    D = libfmp.c3.compute_accumulated_cost_matrix(C)\n",
    "    P = libfmp.c3.compute_optimal_warping_path(D)\n",
    "    alignment_cost = D[-1, -1]\n",
    "    normalized_cost = alignment_cost / (y_seq.shape[0] + x_seq.shape[0])\n",
    "    \n",
    "    # Check if the current audio has a smaller cost than any of the current smallest costs\n",
    "    for i in range(10):\n",
    "        if normalized_cost < smallest_costs[i]:\n",
    "            smallest_costs.insert(i, normalized_cost)\n",
    "            smallest_costs = smallest_costs[:10]\n",
    "            smallest_audios.insert(i, audio)\n",
    "            smallest_audios = smallest_audios[:10]\n",
    "            break\n",
    "end_time = time.time()\n",
    "execution_time = end_time - start_time\n",
    "print(f\"Tempo de execução do loop: {execution_time} segundos\")\n",
    "# Print the 10 audios with the smallest alignment cost\n",
    "for i, audio in enumerate(smallest_audios):\n",
    "    print(f\"Audio {i+1} - File: {audio}, Normalized Alignment Cost: {smallest_costs[i]}\")"
   ]
  },
  {
   "cell_type": "markdown",
   "id": "c4c908cd",
   "metadata": {},
   "source": [
    "Sem nenhuma mudança expressiva, apenas que no primeiro audio temos a certeza de que é a mesma pessoa falando. Possivelmente a melhor escolha para achar os audios de uma pessoa num database."
   ]
  }
 ],
 "metadata": {
  "kernelspec": {
   "display_name": "Python 3 (ipykernel)",
   "language": "python",
   "name": "python3"
  },
  "language_info": {
   "codemirror_mode": {
    "name": "ipython",
    "version": 3
   },
   "file_extension": ".py",
   "mimetype": "text/x-python",
   "name": "python",
   "nbconvert_exporter": "python",
   "pygments_lexer": "ipython3",
   "version": "3.9.16"
  }
 },
 "nbformat": 4,
 "nbformat_minor": 5
}
