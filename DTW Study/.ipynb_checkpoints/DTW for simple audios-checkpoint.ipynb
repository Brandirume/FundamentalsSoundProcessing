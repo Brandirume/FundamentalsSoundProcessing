{
 "cells": [
  {
   "cell_type": "code",
   "execution_count": 1,
   "id": "5f2ad879",
   "metadata": {},
   "outputs": [],
   "source": [
    "import os\n",
    "from matplotlib.patches import ConnectionPatch\n",
    "import matplotlib.pyplot as plt\n",
    "import numpy as np\n",
    "import libfmp.c3\n",
    "import librosa\n",
    "from numba import jit, njit\n",
    "import scipy.spatial.distance as dist\n",
    "from scipy.io import wavfile\n",
    "import IPython.display as ipyd\n",
    "import scipy.spatial.distance as dist\n",
    "import time"
   ]
  },
  {
   "cell_type": "code",
   "execution_count": 2,
   "id": "9a79ae3c",
   "metadata": {},
   "outputs": [
    {
     "name": "stdout",
     "output_type": "stream",
     "text": [
      "Tempo de execução do loop: 68.96927261352539 segundos\n",
      "Audio 1 - File: palavras\\Nelson Ricardo 2500\\vete.ogg, Normalized Alignment Cost: 0.2604586010617139\n",
      "Audio 2 - File: palavras\\Santamarcanda\\esteja.ogg, Normalized Alignment Cost: 0.2788791626167703\n",
      "Audio 3 - File: palavras\\Nelson Ricardo 2500\\recebi.ogg, Normalized Alignment Cost: 0.292698232432149\n",
      "Audio 4 - File: palavras\\Nelson Ricardo 2500\\temo.ogg, Normalized Alignment Cost: 0.30266969736411836\n",
      "Audio 5 - File: palavras\\Santamarcanda\\pista.ogg, Normalized Alignment Cost: 0.303651144753917\n",
      "Audio 6 - File: palavras\\Nelson Ricardo 2500\\limão.ogg, Normalized Alignment Cost: 0.3058701177329805\n",
      "Audio 7 - File: palavras\\Nelson Ricardo 2500\\portas.ogg, Normalized Alignment Cost: 0.30601030533501195\n",
      "Audio 8 - File: palavras\\Nelson Ricardo 2500\\out.ogg, Normalized Alignment Cost: 0.306303265559075\n",
      "Audio 9 - File: palavras\\Nelson Ricardo 2500\\rir.ogg, Normalized Alignment Cost: 0.30797166020950895\n",
      "Audio 10 - File: palavras\\Nelson Ricardo 2500\\gritar.ogg, Normalized Alignment Cost: 0.30910363237100674\n"
     ]
    }
   ],
   "source": [
    "N, H = 4096, 512\n",
    "#selecionando o primeiro audio:\n",
    "x, f_s_x = librosa.load(\"palavras/Sillim/os.ogg\")\n",
    "# Chroma spectrogram do primeiro:\n",
    "X = librosa.feature.chroma_stft(y=x, sr=f_s_x, tuning=0, norm=2, hop_length=H, n_fft=N)\n",
    "ipyd.Audio(rate=f_s_x, data=x)\n",
    "x_seq = X.T\n",
    "#Comparando com a base de dados:\n",
    "audio_paths = []\n",
    "for root, dirs, files in os.walk(\"palavras\"):\n",
    "    if \"Sillim\" in root:\n",
    "        continue\n",
    "    for file in files:\n",
    "        if file.endswith(\".ogg\"):\n",
    "            audio_paths.append(os.path.join(root, file))\n",
    "smallest_costs = [float('inf')] * 10\n",
    "smallest_audios = [None] * 10\n",
    "start_time = time.time()\n",
    "for audio in audio_paths:\n",
    "    y, f_s_y = librosa.load(audio)\n",
    "    Y = librosa.feature.chroma_stft(y=y, sr=f_s_y, tuning=0, norm=2, hop_length=H, n_fft=N)\n",
    "    y_seq = Y.T\n",
    "    C = libfmp.c3.compute_cost_matrix(X, Y)\n",
    "    D = libfmp.c3.compute_accumulated_cost_matrix(C)\n",
    "    P = libfmp.c3.compute_optimal_warping_path(D)\n",
    "    alignment_cost = D[-1, -1]\n",
    "    normalized_cost = alignment_cost / (y_seq.shape[0] + x_seq.shape[0])\n",
    "    \n",
    "    # Check if the current audio has a smaller cost than any of the current smallest costs\n",
    "    for i in range(10):\n",
    "        if normalized_cost < smallest_costs[i]:\n",
    "            smallest_costs.insert(i, normalized_cost)\n",
    "            smallest_costs = smallest_costs[:10]\n",
    "            smallest_audios.insert(i, audio)\n",
    "            smallest_audios = smallest_audios[:10]\n",
    "            break\n",
    "end_time = time.time()\n",
    "execution_time = end_time - start_time\n",
    "print(f\"Tempo de execução do loop: {execution_time} segundos\")\n",
    "# Print the 10 audios with the smallest alignment cost\n",
    "for i, audio in enumerate(smallest_audios):\n",
    "    print(f\"Audio {i+1} - File: {audio}, Normalized Alignment Cost: {smallest_costs[i]}\")"
   ]
  },
  {
   "cell_type": "code",
   "execution_count": 3,
   "id": "7bab4164",
   "metadata": {},
   "outputs": [
    {
     "name": "stdout",
     "output_type": "stream",
     "text": [
      "Tempo de execução do loop: 77.87531113624573 segundos\n",
      "Audio 1 - File: palavras\\Jjunho (Juliano P. Junho)\\algum.ogg, Normalized Alignment Cost: 0.20073214646261864\n",
      "Audio 2 - File: palavras\\Nelson Ricardo 2500\\nisto.ogg, Normalized Alignment Cost: 0.21541092836744408\n",
      "Audio 3 - File: palavras\\Jjunho (Juliano P. Junho)\\única.ogg, Normalized Alignment Cost: 0.21893177940664724\n",
      "Audio 4 - File: palavras\\Jjunho (Juliano P. Junho)\\devia.ogg, Normalized Alignment Cost: 0.22404655398792608\n",
      "Audio 5 - File: palavras\\Jjunho (Juliano P. Junho)\\estes.ogg, Normalized Alignment Cost: 0.22547102665085014\n",
      "Audio 6 - File: palavras\\Nelson Ricardo 2500\\Pico.ogg, Normalized Alignment Cost: 0.22678728482154453\n",
      "Audio 7 - File: palavras\\Jjunho (Juliano P. Junho)\\meses.ogg, Normalized Alignment Cost: 0.2276762586387776\n",
      "Audio 8 - File: palavras\\Jjunho (Juliano P. Junho)\\morto.ogg, Normalized Alignment Cost: 0.23440637310298176\n",
      "Audio 9 - File: palavras\\Nelson Ricardo 2500\\perdi.ogg, Normalized Alignment Cost: 0.23501709298423867\n",
      "Audio 10 - File: palavras\\Nelson Ricardo 2500\\me.ogg, Normalized Alignment Cost: 0.23750544314528543\n"
     ]
    }
   ],
   "source": [
    "N, H = 4096, 512\n",
    "x, f_s_x = librosa.load(\"palavras/Sillim/os.ogg\")\n",
    "X = librosa.feature.melspectrogram(y=x, sr=f_s_x, hop_length=H, n_fft=N)\n",
    "ipyd.Audio(rate=f_s_x, data=x)\n",
    "x_seq = X.T\n",
    "audio_paths = []\n",
    "for root, dirs, files in os.walk(\"palavras\"):\n",
    "    if \"Sillim\" in root:\n",
    "        continue\n",
    "    for file in files:\n",
    "        if file.endswith(\".ogg\"):\n",
    "            audio_paths.append(os.path.join(root, file))\n",
    "smallest_costs = [float('inf')] * 10\n",
    "smallest_audios = [None] * 10\n",
    "start_time = time.time()\n",
    "for audio in audio_paths:\n",
    "    y, f_s_y = librosa.load(audio)\n",
    "    Y = librosa.feature.melspectrogram(y=y, sr=f_s_y, hop_length=H, n_fft=N)\n",
    "    y_seq = Y.T\n",
    "    #C = libfmp.c3.compute_cost_matrix(X, Y)\n",
    "    C = dist.cdist(x_seq, y_seq, \"cosine\")\n",
    "    D = libfmp.c3.compute_accumulated_cost_matrix(C)\n",
    "    P = libfmp.c3.compute_optimal_warping_path(D)\n",
    "    alignment_cost = D[-1, -1]\n",
    "    normalized_cost = alignment_cost / (y_seq.shape[0] + x_seq.shape[0])\n",
    "    for i in range(10):\n",
    "        if normalized_cost < smallest_costs[i]:\n",
    "            smallest_costs.insert(i, normalized_cost)\n",
    "            smallest_costs = smallest_costs[:10]\n",
    "            smallest_audios.insert(i, audio)\n",
    "            smallest_audios = smallest_audios[:10]\n",
    "            break\n",
    "end_time = time.time()\n",
    "execution_time = end_time - start_time\n",
    "print(f\"Tempo de execução do loop: {execution_time} segundos\")\n",
    "for i, audio in enumerate(smallest_audios):\n",
    "    print(f\"Audio {i+1} - File: {audio}, Normalized Alignment Cost: {smallest_costs[i]}\")"
   ]
  },
  {
   "cell_type": "code",
   "execution_count": 4,
   "id": "e2207785",
   "metadata": {},
   "outputs": [
    {
     "name": "stdout",
     "output_type": "stream",
     "text": [
      "Tempo de execução do loop: 54.05421781539917 segundos\n",
      "Audio 1 - File: palavras\\Nelson Ricardo 2500\\adeus.ogg, Normalized Alignment Cost: 0.23454246202426549\n",
      "Audio 2 - File: palavras\\Nelson Ricardo 2500\\oeste.ogg, Normalized Alignment Cost: 0.24314286092179782\n",
      "Audio 3 - File: palavras\\Nelson Ricardo 2500\\estrelas.ogg, Normalized Alignment Cost: 0.24540496577087784\n",
      "Audio 4 - File: palavras\\Nelson Ricardo 2500\\pelas.ogg, Normalized Alignment Cost: 0.24541679890223614\n",
      "Audio 5 - File: palavras\\Jjunho (Juliano P. Junho)\\hoje.ogg, Normalized Alignment Cost: 0.24583864971189334\n",
      "Audio 6 - File: palavras\\Nelson Ricardo 2500\\teus.ogg, Normalized Alignment Cost: 0.2509327909837856\n",
      "Audio 7 - File: palavras\\Adélaïde Calais WMFr\\abatido.ogg, Normalized Alignment Cost: 0.2523241190280244\n",
      "Audio 8 - File: palavras\\Nelson Ricardo 2500\\oito.ogg, Normalized Alignment Cost: 0.2523817147641922\n",
      "Audio 9 - File: palavras\\Nelson Ricardo 2500\\lá.ogg, Normalized Alignment Cost: 0.2596208557628223\n",
      "Audio 10 - File: palavras\\Nelson Ricardo 2500\\país.ogg, Normalized Alignment Cost: 0.2606769067891857\n"
     ]
    }
   ],
   "source": [
    "N, H = 4096, 512\n",
    "x, f_s_x = librosa.load(\"palavras/Santamarcanda/os.ogg\")\n",
    "X = librosa.feature.melspectrogram(y=x, sr=f_s_x, hop_length=H, n_fft=N)\n",
    "ipyd.Audio(rate=f_s_x, data=x)\n",
    "x_seq = X.T\n",
    "audio_paths = []\n",
    "for root, dirs, files in os.walk(\"palavras\"):\n",
    "    if \"Santamarcanda\" in root:\n",
    "        continue\n",
    "    for file in files:\n",
    "        if file.endswith(\".ogg\"):\n",
    "            audio_paths.append(os.path.join(root, file))\n",
    "smallest_costs = [float('inf')] * 10\n",
    "smallest_audios = [None] * 10\n",
    "start_time = time.time()\n",
    "for audio in audio_paths:\n",
    "    y, f_s_y = librosa.load(audio)\n",
    "    Y = librosa.feature.melspectrogram(y=y, sr=f_s_y, hop_length=H, n_fft=N)\n",
    "    y_seq = Y.T\n",
    "    #C = libfmp.c3.compute_cost_matrix(X, Y)\n",
    "    C = dist.cdist(x_seq, y_seq, \"cosine\")\n",
    "    D = libfmp.c3.compute_accumulated_cost_matrix(C)\n",
    "    P = libfmp.c3.compute_optimal_warping_path(D)\n",
    "    alignment_cost = D[-1, -1]\n",
    "    normalized_cost = alignment_cost / (y_seq.shape[0] + x_seq.shape[0])\n",
    "    for i in range(10):\n",
    "        if normalized_cost < smallest_costs[i]:\n",
    "            smallest_costs.insert(i, normalized_cost)\n",
    "            smallest_costs = smallest_costs[:10]\n",
    "            smallest_audios.insert(i, audio)\n",
    "            smallest_audios = smallest_audios[:10]\n",
    "            break\n",
    "end_time = time.time()\n",
    "execution_time = end_time - start_time\n",
    "print(f\"Tempo de execução do loop: {execution_time} segundos\")\n",
    "for i, audio in enumerate(smallest_audios):\n",
    "    print(f\"Audio {i+1} - File: {audio}, Normalized Alignment Cost: {smallest_costs[i]}\")"
   ]
  },
  {
   "cell_type": "markdown",
   "id": "7f21dfb6",
   "metadata": {},
   "source": [
    "Para todos os testes acima, existem audios com a mesma fala"
   ]
  }
 ],
 "metadata": {
  "kernelspec": {
   "display_name": "Python 3 (ipykernel)",
   "language": "python",
   "name": "python3"
  },
  "language_info": {
   "codemirror_mode": {
    "name": "ipython",
    "version": 3
   },
   "file_extension": ".py",
   "mimetype": "text/x-python",
   "name": "python",
   "nbconvert_exporter": "python",
   "pygments_lexer": "ipython3",
   "version": "3.9.16"
  }
 },
 "nbformat": 4,
 "nbformat_minor": 5
}
