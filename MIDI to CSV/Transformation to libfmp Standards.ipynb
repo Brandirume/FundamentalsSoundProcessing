{
 "cells": [
  {
   "cell_type": "code",
   "execution_count": 1,
   "id": "5709a0a9",
   "metadata": {},
   "outputs": [
    {
     "name": "stdout",
     "output_type": "stream",
     "text": [
      "Enter the input CSV file name (e.g., input.csv): hungarian dance No. 5 - before.csv\n",
      "Enter the output CSV file name (e.g., output.csv): hungarian dance No. 5.csv\n",
      "Enter the BPM: 130\n",
      "CSV file 'hungarian dance No. 5.csv' has been generated.\n"
     ]
    }
   ],
   "source": [
    "import pandas as pd\n",
    "import numpy as np\n",
    "\n",
    "# Prompt the user for input and output file names\n",
    "input_file = input(\"Enter the input file name (e.g., input): \")\n",
    "input_file += \".csv\"\n",
    "\n",
    "output_file = input(\"Enter the output file name (e.g., output): \")\n",
    "output_file += \".csv\"\n",
    "\n",
    "# Load the CSV file\n",
    "df = pd.read_csv(input_file)\n",
    "\n",
    "# Replace '-' with 'b' in the note_name column\n",
    "df['note_name'] = df['note_name'].str.replace('-', 'b')\n",
    "\n",
    "def note_to_pitch(note_name):\n",
    "    note_to_pitch_dict = {\n",
    "    'C0': 12, 'C#0': 13, 'Db0': 13, 'D0': 14, 'D#0': 15, 'Eb0': 15, 'E0': 16, 'F0': 17, 'F#0': 18, 'Gb0': 18, 'G0': 19, 'G#0': 20, 'Ab0': 20, 'A0': 21, 'A#0': 22, 'Bb0': 22, 'B0': 23,\n",
    "    'C1': 24, 'C#1': 25, 'Db1': 25, 'D1': 26, 'D#1': 27, 'Eb1': 27, 'E1': 28, 'F1': 29, 'F#1': 30, 'Gb1': 30, 'G1': 31, 'G#1': 32, 'Ab1': 32, 'A1': 33, 'A#1': 34, 'Bb1': 34, 'B1': 35,\n",
    "    'C2': 36, 'C#2': 37, 'Db2': 37, 'D2': 38, 'D#2': 39, 'Eb2': 39, 'E2': 40, 'F2': 41, 'F#2': 42, 'Gb2': 42, 'G2': 43, 'G#2': 44, 'Ab2': 44, 'A2': 45, 'A#2': 46, 'Bb2': 46, 'B2': 47,\n",
    "    'C3': 48, 'C#3': 49, 'Db3': 49, 'D3': 50, 'D#3': 51, 'Eb3': 51, 'E3': 52, 'F3': 53, 'F#3': 54, 'Gb3': 54, 'G3': 55, 'G#3': 56, 'Ab3': 56, 'A3': 57, 'A#3': 58, 'Bb3': 58, 'B3': 59,\n",
    "    'C4': 60, 'C#4': 61, 'Db4': 61, 'D4': 62, 'D#4': 63, 'Eb4': 63, 'E4': 64, 'F4': 65, 'F#4': 66, 'Gb4': 66, 'G4': 67, 'G#4': 68, 'Ab4': 68, 'A4': 69, 'A#4': 70, 'Bb4': 70, 'B4': 71,\n",
    "    'C5': 72, 'C#5': 73, 'Db5': 73, 'D5': 74, 'D#5': 75, 'Eb5': 75, 'E5': 76, 'F5': 77, 'F#5': 78, 'Gb5': 78, 'G5': 79, 'G#5': 80, 'Ab5': 80, 'A5': 81, 'A#5': 82, 'Bb5': 82, 'B5': 83,\n",
    "    'C6': 84, 'C#6': 85, 'Db6': 85, 'D6': 86, 'D#6': 87, 'Eb6': 87, 'E6': 88, 'F6': 89, 'F#6': 90, 'Gb6': 90, 'G6': 91, 'G#6': 92, 'Ab6': 92, 'A6': 93, 'A#6': 94, 'Bb6': 94, 'B6': 95,\n",
    "    'C7': 96, 'C#7': 97, 'Db7': 97, 'D7': 98, 'D#7': 99, 'Eb7': 99, 'E7': 100, 'F7': 101, 'F#7': 102, 'Gb7': 102, 'G7': 103, 'G#7': 104, 'Ab7': 104, 'A7': 105, 'A#7': 106, 'Bb7': 106, 'B7': 107,\n",
    "    'C8': 108, 'C#8': 109, 'Db8': 109, 'D8': 110, 'D#8': 111, 'Eb8': 111, 'E8': 112, 'F8': 113, 'F#8': 114, 'Gb8': 114, 'G8': 115, 'G#8': 116, 'Ab8': 116, 'A8': 117, 'A#8': 118, 'Bb8': 118, 'B8': 119,\n",
    "    'C9': 120, 'C#9': 121, 'Db9': 121, 'D9': 122, 'D#9': 123, 'Eb9': 123, 'E9': 124, 'F9': 125, 'F#9': 126, 'Gb9': 126, 'G9': 127, 'G#9': 128, 'Ab9': 128, 'A9': 129, 'A#9': 130, 'Bb9': 130, 'B9': 131,\n",
    "    'C10': 132, 'C#10': 133, 'Db10': 133, 'D10': 134, 'D#10': 135, 'Eb10': 135, 'E10': 136, 'F10': 137, 'F#10': 138, 'Gb10': 138, 'G10': 139, 'G#10': 140, 'Ab10': 140, 'A10': 141, 'A#10': 142, 'Bb10': 142, 'B10': 143\n",
    "    }\n",
    "    return note_to_pitch_dict.get(note_name, None)\n",
    "\n",
    "# Apply the transformation to each row\n",
    "df['Pitch'] = df['note_name'].apply(note_to_pitch)\n",
    "df['Start'] = df['start_time'].round(2)\n",
    "df['Duration'] = df['duration'].round(2)\n",
    "df['Velocity'] = df['velocity']\n",
    "\n",
    "# transform the velocity to the standards of the libfmp\n",
    "df['Velocity'] = df['velocity'] / 127\n",
    "\n",
    "# Select and reorder columns\n",
    "df = df[['Start', 'Duration', 'Pitch', 'Velocity']]\n",
    "\n",
    "# Add the 'instrument' column with NaN values\n",
    "df['instrument'] = np.nan\n",
    "\n",
    "# Save the DataFrame to a new CSV file\n",
    "df.to_csv(output_file, index=False, sep=';', header=True)\n",
    "\n",
    "print(f\"CSV file '{output_file}' has been generated.\")"
   ]
  }
 ],
 "metadata": {
  "kernelspec": {
   "display_name": "Python 3 (ipykernel)",
   "language": "python",
   "name": "python3"
  },
  "language_info": {
   "codemirror_mode": {
    "name": "ipython",
    "version": 3
   },
   "file_extension": ".py",
   "mimetype": "text/x-python",
   "name": "python",
   "nbconvert_exporter": "python",
   "pygments_lexer": "ipython3",
   "version": "3.9.16"
  }
 },
 "nbformat": 4,
 "nbformat_minor": 5
}
